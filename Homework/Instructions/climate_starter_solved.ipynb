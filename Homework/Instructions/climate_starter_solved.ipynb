{
 "cells": [
  {
   "cell_type": "code",
   "execution_count": 9,
   "metadata": {
    "collapsed": true
   },
   "outputs": [],
   "source": [
    "%matplotlib inline\n",
    "from matplotlib import style\n",
    "style.use('fivethirtyeight')\n",
    "import matplotlib.pyplot as plt"
   ]
  },
  {
   "cell_type": "code",
   "execution_count": 10,
   "metadata": {
    "collapsed": true
   },
   "outputs": [],
   "source": [
    "import numpy as np\n",
    "import pandas as pd"
   ]
  },
  {
   "cell_type": "code",
   "execution_count": 11,
   "metadata": {
    "collapsed": true
   },
   "outputs": [],
   "source": [
    "import datetime as dt"
   ]
  },
  {
   "cell_type": "markdown",
   "metadata": {},
   "source": [
    "# Reflect Tables into SQLAlchemy ORM"
   ]
  },
  {
   "cell_type": "code",
   "execution_count": 12,
   "metadata": {
    "collapsed": true
   },
   "outputs": [],
   "source": [
    "# Python SQL toolkit and Object Relational Mapper\n",
    "import sqlalchemy\n",
    "from sqlalchemy.ext.automap import automap_base\n",
    "from sqlalchemy.orm import Session\n",
    "from sqlalchemy import create_engine, func"
   ]
  },
  {
   "cell_type": "code",
   "execution_count": 13,
   "metadata": {
    "collapsed": true
   },
   "outputs": [],
   "source": [
    "engine = create_engine(\"sqlite:///Resources/hawaii.sqlite\")"
   ]
  },
  {
   "cell_type": "code",
   "execution_count": 14,
   "metadata": {
    "collapsed": true
   },
   "outputs": [],
   "source": [
    "# reflect an existing database into a new model\n",
    "Base = automap_base()\n",
    "# reflect the tables\n",
    "Base.prepare(engine, reflect=True)"
   ]
  },
  {
   "cell_type": "code",
   "execution_count": 15,
   "metadata": {},
   "outputs": [
    {
     "data": {
      "text/plain": [
       "['measurement', 'station']"
      ]
     },
     "execution_count": 15,
     "metadata": {},
     "output_type": "execute_result"
    }
   ],
   "source": [
    "# We can view all of the classes that automap found\n",
    "Base.classes.keys()"
   ]
  },
  {
   "cell_type": "code",
   "execution_count": 16,
   "metadata": {
    "collapsed": true
   },
   "outputs": [],
   "source": [
    "# Save references to each table\n",
    "Measurement = Base.classes.measurement\n",
    "Station = Base.classes.station"
   ]
  },
  {
   "cell_type": "code",
   "execution_count": 17,
   "metadata": {
    "collapsed": true
   },
   "outputs": [],
   "source": [
    "# Create our session (link) from Python to the DB\n",
    "session = Session(engine)"
   ]
  },
  {
   "cell_type": "code",
   "execution_count": 18,
   "metadata": {},
   "outputs": [
    {
     "name": "stdout",
     "output_type": "stream",
     "text": [
      "Last Date in data set: 2017-08-23. 1 year ago: 2016-08-23\n"
     ]
    },
    {
     "data": {
      "text/plain": [
       "<matplotlib.axes._subplots.AxesSubplot at 0x2e39c014d68>"
      ]
     },
     "execution_count": 18,
     "metadata": {},
     "output_type": "execute_result"
    },
    {
     "data": {
      "image/png": "[encoded data removed]",
      "text/plain": [
       "<Figure size 432x288 with 1 Axes>"
      ]
     },
     "metadata": {},
     "output_type": "display_data"
    }
   ],
   "source": [
    "# Design a query to retrieve the last 12 months of precipitation data and plot the results\n",
    "\n",
    "# Calculate the date 1 year ago from the last data point in the database\n",
    "lastdate= (session.query(Measurement.date)\n",
    "    .order_by(Measurement.date.desc()).first())\n",
    "lastdate\n",
    "\n",
    "lastdate_str = str(lastdate)[2:-3]\n",
    "year_ago = str(eval(lastdate_str[0:4])-1) + lastdate_str[4:]\n",
    "print(f'Last Date in data set: {lastdate_str}. 1 year ago: {year_ago}')\n",
    "\n",
    "# Perform a query to retrieve the data and precipitation scores\n",
    "#precip_12 = (session.query(Measurement.date,\n",
    "#    func.avg(Measurement.prcp))\n",
    "#    .filter(Measurement.date > year_ago)\n",
    "#    .group_by(Measurement.date)\n",
    "#    .order_by(Measurement.date).all())\n",
    "precip_12 = (session.query(Measurement.date,\n",
    "     Measurement.prcp)\n",
    "    .filter(Measurement.date >= year_ago)\n",
    "    .order_by(Measurement.date).all())\n",
    "    \n",
    "#for row in precip_12:\n",
    " #   print(row)\n",
    "    \n",
    "# Save the query results as a Pandas DataFrame and set the index to the date column\n",
    "precip_12_df = pd.DataFrame(precip_12, columns = ['Date', 'Precipitation'])\n",
    "precip_12_df['Date'] = pd.to_datetime(precip_12_df['Date'], format='%Y/%m/%d')\n",
    "\n",
    "# Sort the dataframe by date\n",
    "precip_12_date = precip_12_df.sort_values(by=['Date']).set_index('Date')\n",
    "precip_12_date.head()\n",
    "\n",
    "# Use Pandas Plotting with Matplotlib to plot the data\n",
    "precip_12_date.plot()"
   ]
  },
  {
   "cell_type": "markdown",
   "metadata": {},
   "source": [
    "# Exploratory Climate Analysis"
   ]
  },
  {
   "cell_type": "code",
   "execution_count": null,
   "metadata": {},
   "outputs": [],
   "source": [
    "\n"
   ]
  },
  {
   "cell_type": "markdown",
   "metadata": {},
   "source": [
    "![precipitation](Images/precipitation.png)"
   ]
  },
  {
   "cell_type": "code",
   "execution_count": 21,
   "metadata": {},
   "outputs": [
    {
     "data": {
      "text/html": [
       "<div>\n",
       "<style scoped>\n",
       "    .dataframe tbody tr th:only-of-type {\n",
       "        vertical-align: middle;\n",
       "    }\n",
       "\n",
       "    .dataframe tbody tr th {\n",
       "        vertical-align: top;\n",
       "    }\n",
       "\n",
       "    .dataframe thead th {\n",
       "        text-align: right;\n",
       "    }\n",
       "</style>\n",
       "<table border=\"1\" class=\"dataframe\">\n",
       "  <thead>\n",
       "    <tr style=\"text-align: right;\">\n",
       "      <th></th>\n",
       "      <th>Precipitation</th>\n",
       "    </tr>\n",
       "  </thead>\n",
       "  <tbody>\n",
       "    <tr>\n",
       "      <th>count</th>\n",
       "      <td>2021.000000</td>\n",
       "    </tr>\n",
       "    <tr>\n",
       "      <th>mean</th>\n",
       "      <td>0.177279</td>\n",
       "    </tr>\n",
       "    <tr>\n",
       "      <th>std</th>\n",
       "      <td>0.461190</td>\n",
       "    </tr>\n",
       "    <tr>\n",
       "      <th>min</th>\n",
       "      <td>0.000000</td>\n",
       "    </tr>\n",
       "    <tr>\n",
       "      <th>25%</th>\n",
       "      <td>0.000000</td>\n",
       "    </tr>\n",
       "    <tr>\n",
       "      <th>50%</th>\n",
       "      <td>0.020000</td>\n",
       "    </tr>\n",
       "    <tr>\n",
       "      <th>75%</th>\n",
       "      <td>0.130000</td>\n",
       "    </tr>\n",
       "    <tr>\n",
       "      <th>max</th>\n",
       "      <td>6.700000</td>\n",
       "    </tr>\n",
       "  </tbody>\n",
       "</table>\n",
       "</div>"
      ],
      "text/plain": [
       "       Precipitation\n",
       "count    2021.000000\n",
       "mean        0.177279\n",
       "std         0.461190\n",
       "min         0.000000\n",
       "25%         0.000000\n",
       "50%         0.020000\n",
       "75%         0.130000\n",
       "max         6.700000"
      ]
     },
     "execution_count": 21,
     "metadata": {},
     "output_type": "execute_result"
    }
   ],
   "source": [
    "# Use Pandas to calcualte the summary statistics for the precipitation data\n",
    "precip_12_date.describe()"
   ]
  },
  {
   "cell_type": "code",
   "execution_count": 22,
   "metadata": {},
   "outputs": [
    {
     "data": {
      "text/plain": [
       "9"
      ]
     },
     "execution_count": 22,
     "metadata": {},
     "output_type": "execute_result"
    }
   ],
   "source": [
    "# Design a query to show how many stations are available in this dataset?\n",
    "station_count = session.query(Station.station).count()\n",
    "station_count"
   ]
  },
  {
   "cell_type": "code",
   "execution_count": 23,
   "metadata": {},
   "outputs": [
    {
     "data": {
      "text/plain": [
       "[('USC00519281', 2772),\n",
       " ('USC00519397', 2724),\n",
       " ('USC00513117', 2709),\n",
       " ('USC00519523', 2669),\n",
       " ('USC00516128', 2612),\n",
       " ('USC00514830', 2202),\n",
       " ('USC00511918', 1979),\n",
       " ('USC00517948', 1372),\n",
       " ('USC00518838', 511)]"
      ]
     },
     "execution_count": 23,
     "metadata": {},
     "output_type": "execute_result"
    }
   ],
   "source": [
    "# What are the most active stations? (i.e. what stations have the most rows)?\n",
    "# List the stations and the counts in descending order.\n",
    "active_station = (session.query(Measurement.station, func.count(Measurement.station))\n",
    "                  .group_by(Measurement.station)\n",
    "                  .order_by(func.count(Measurement.id).desc())\n",
    "                  .all())\n",
    "active_station"
   ]
  },
  {
   "cell_type": "code",
   "execution_count": 24,
   "metadata": {},
   "outputs": [
    {
     "data": {
      "text/plain": [
       "[(54.0, 85.0, 71.66378066378067)]"
      ]
     },
     "execution_count": 24,
     "metadata": {},
     "output_type": "execute_result"
    }
   ],
   "source": [
    "# Using the station id from the previous query, calculate the lowest temperature recorded, \n",
    "# highest temperature recorded, and average temperature most active station?\n",
    "most_active_station = active_station[0][0]\n",
    "most_active_station\n",
    "active_station_values = (session.query(func.min(Measurement.tobs),\n",
    "              func.max(Measurement.tobs),\n",
    "              func.avg(Measurement.tobs))\n",
    "              .filter(Measurement.station == most_active_station))\n",
    "active_station_values.all()"
   ]
  },
  {
   "cell_type": "code",
   "execution_count": 27,
   "metadata": {},
   "outputs": [
    {
     "data": {
      "image/png": "[encoded data removed]",
      "text/plain": [
       "<Figure size 432x288 with 1 Axes>"
      ]
     },
     "metadata": {},
     "output_type": "display_data"
    }
   ],
   "source": [
    "# Choose the station with the highest number of temperature observations.\n",
    "# Query the last 12 months of temperature observation data for this station and \n",
    "# plot the results as a histogram.\n",
    "\n",
    "most_active_temp = (session.query(Measurement.tobs)\n",
    "                    .filter(Measurement.date.between(year_ago, lastdate[0]))\n",
    "                    .filter(Measurement.station == most_active_station)).all()\n",
    "\n",
    "temps = [t[0] for t in most_active_temp]\n",
    "\n",
    "temps\n",
    "plt.hist(temps, bins = 12, label = 'tobs')\n",
    "plt.legend()\n",
    "plt.ylabel(\"Frequency\")\n",
    "plt.show()"
   ]
  },
  {
   "cell_type": "code",
   "execution_count": 28,
   "metadata": {},
   "outputs": [
    {
     "name": "stdout",
     "output_type": "stream",
     "text": [
      "[(62.0, 69.57142857142857, 74.0)]\n"
     ]
    }
   ],
   "source": [
    "# This function called `calc_temps` will accept start date and end date in the format '%Y-%m-%d' \n",
    "# and return the minimum, average, and maximum temperatures for that range of dates\n",
    "def calc_temps(start_date, end_date):\n",
    "    \"\"\"TMIN, TAVG, and TMAX for a list of dates.\n",
    "    \n",
    "    Args:\n",
    "        start_date (string): A date string in the format %Y-%m-%d\n",
    "        end_date (string): A date string in the format %Y-%m-%d\n",
    "        \n",
    "    Returns:\n",
    "        TMIN, TAVE, and TMAX\n",
    "    \"\"\"\n",
    "    \n",
    "    return session.query(func.min(Measurement.tobs), func.avg(Measurement.tobs), func.max(Measurement.tobs)).\\\n",
    "        filter(Measurement.date >= start_date).filter(Measurement.date <= end_date).all()\n",
    "\n",
    "# function usage example\n",
    "print(calc_temps('2012-02-28', '2012-03-05'))"
   ]
  },
  {
   "cell_type": "code",
   "execution_count": 29,
   "metadata": {},
   "outputs": [],
   "source": [
    "# Use your previous function `calc_temps` to calculate the tmin, tavg, and tmax \n",
    "# for your trip using the previous year's data for those same dates.\n",
    "trip_start = '2017-07-07'\n",
    "trip_end = '2017-07-14'\n",
    "trip = (calc_temps(trip_start, trip_end)[0])\n",
    "trip\n",
    "min_trip = trip[0]\n",
    "max_trip = trip[1]\n",
    "avg_trip = trip[2]"
   ]
  },
  {
   "cell_type": "code",
   "execution_count": 30,
   "metadata": {},
   "outputs": [
    {
     "data": {
      "image/png": "[encoded data removed]",
      "text/plain": [
       "<Figure size 432x360 with 1 Axes>"
      ]
     },
     "metadata": {},
     "output_type": "display_data"
    }
   ],
   "source": [
    "# Plot the results from your previous query as a bar chart. \n",
    "# Use \"Trip Avg Temp\" as your Title\n",
    "# Use the average temperature for the y value\n",
    "# Use the peak-to-peak (tmax-tmin) value as the y error bar (yerr)\n",
    "plt.subplots(figsize=(6,5))\n",
    "plt.xlim(0, 2)\n",
    "plt.ylim([0,100])\n",
    "plt.bar(1, avg_trip, color = 'skyblue', yerr = max_trip-min_trip, tick_label=\"\", align='center')\n",
    "plt.title(f\"Trip Average Temperature\\n Rusty's Bday Trip Start Date to End Date:  {trip_start} - {trip_end}\", fontsize=14)\n",
    "plt.ylabel(\"Temperature\")\n",
    "plt.tight_layout()\n",
    "\n",
    "plt.show()"
   ]
  },
  {
   "cell_type": "code",
   "execution_count": 31,
   "metadata": {},
   "outputs": [
    {
     "name": "stdout",
     "output_type": "stream",
     "text": [
      "measurement: ['id', 'station', 'date', 'prcp', 'tobs'] -- \n",
      "Station: ['id', 'station', 'name', 'latitude', 'longitude', 'elevation']\n"
     ]
    }
   ],
   "source": [
    "# Display column names in measurement and stations tables. \n",
    "measurement_columns = [m.key for m in Measurement.__table__.columns]\n",
    "station_columns = [s.key for s in Station.__table__.columns]\n",
    "\n",
    "print(f'measurement: {measurement_columns} -- \\nStation: {station_columns}')"
   ]
  },
  {
   "cell_type": "code",
   "execution_count": 32,
   "metadata": {},
   "outputs": [
    {
     "data": {
      "text/html": [
       "<div>\n",
       "<style scoped>\n",
       "    .dataframe tbody tr th:only-of-type {\n",
       "        vertical-align: middle;\n",
       "    }\n",
       "\n",
       "    .dataframe tbody tr th {\n",
       "        vertical-align: top;\n",
       "    }\n",
       "\n",
       "    .dataframe thead th {\n",
       "        text-align: right;\n",
       "    }\n",
       "</style>\n",
       "<table border=\"1\" class=\"dataframe\">\n",
       "  <thead>\n",
       "    <tr style=\"text-align: right;\">\n",
       "      <th></th>\n",
       "      <th>Total Precip</th>\n",
       "      <th>Station Name</th>\n",
       "      <th>Elevation</th>\n",
       "      <th>Latitude</th>\n",
       "      <th>Longitute</th>\n",
       "    </tr>\n",
       "    <tr>\n",
       "      <th>Station</th>\n",
       "      <th></th>\n",
       "      <th></th>\n",
       "      <th></th>\n",
       "      <th></th>\n",
       "      <th></th>\n",
       "    </tr>\n",
       "  </thead>\n",
       "  <tbody>\n",
       "    <tr>\n",
       "      <th>USC00516128</th>\n",
       "      <td>1.75</td>\n",
       "      <td>MANOA LYON ARBO 785.2, HI US</td>\n",
       "      <td>152.4</td>\n",
       "      <td>21.33310</td>\n",
       "      <td>-157.80250</td>\n",
       "    </tr>\n",
       "    <tr>\n",
       "      <th>USC00519281</th>\n",
       "      <td>1.13</td>\n",
       "      <td>WAIHEE 837.5, HI US</td>\n",
       "      <td>32.9</td>\n",
       "      <td>21.45167</td>\n",
       "      <td>-157.84889</td>\n",
       "    </tr>\n",
       "    <tr>\n",
       "      <th>USC00513117</th>\n",
       "      <td>0.53</td>\n",
       "      <td>KANEOHE 838.1, HI US</td>\n",
       "      <td>14.6</td>\n",
       "      <td>21.42340</td>\n",
       "      <td>-157.80150</td>\n",
       "    </tr>\n",
       "    <tr>\n",
       "      <th>USC00514830</th>\n",
       "      <td>0.38</td>\n",
       "      <td>KUALOA RANCH HEADQUARTERS 886.9, HI US</td>\n",
       "      <td>7.0</td>\n",
       "      <td>21.52130</td>\n",
       "      <td>-157.83740</td>\n",
       "    </tr>\n",
       "    <tr>\n",
       "      <th>USC00519523</th>\n",
       "      <td>0.11</td>\n",
       "      <td>WAIMANALO EXPERIMENTAL FARM, HI US</td>\n",
       "      <td>19.5</td>\n",
       "      <td>21.33556</td>\n",
       "      <td>-157.71139</td>\n",
       "    </tr>\n",
       "  </tbody>\n",
       "</table>\n",
       "</div>"
      ],
      "text/plain": [
       "             Total Precip                            Station Name  Elevation  \\\n",
       "Station                                                                        \n",
       "USC00516128          1.75            MANOA LYON ARBO 785.2, HI US      152.4   \n",
       "USC00519281          1.13                     WAIHEE 837.5, HI US       32.9   \n",
       "USC00513117          0.53                    KANEOHE 838.1, HI US       14.6   \n",
       "USC00514830          0.38  KUALOA RANCH HEADQUARTERS 886.9, HI US        7.0   \n",
       "USC00519523          0.11      WAIMANALO EXPERIMENTAL FARM, HI US       19.5   \n",
       "\n",
       "             Latitude  Longitute  \n",
       "Station                           \n",
       "USC00516128  21.33310 -157.80250  \n",
       "USC00519281  21.45167 -157.84889  \n",
       "USC00513117  21.42340 -157.80150  \n",
       "USC00514830  21.52130 -157.83740  \n",
       "USC00519523  21.33556 -157.71139  "
      ]
     },
     "execution_count": 32,
     "metadata": {},
     "output_type": "execute_result"
    }
   ],
   "source": [
    "# Calculate the rainfall per weather station for your trip dates \n",
    "#using the previous year's matching dates.\n",
    "# Sort this in descending order by precipitation amount and \n",
    "#list the station, name, latitude, longitude, and elevation.\n",
    "\n",
    "rainfall_station = (session.query(Station.station, \n",
    "     func.sum(Measurement.prcp),\n",
    "     Station.name, Station.elevation, Station.latitude, Station.longitude)\n",
    "    .filter(Measurement.station == Station.station)\n",
    "    .filter(Measurement.date >= trip_start)\n",
    "    .filter(Measurement.date <= trip_end)\n",
    "    .group_by(Station.station)\n",
    "    .order_by(func.sum(Measurement.prcp).desc())).all()\n",
    "\n",
    "rainfall_df = (pd.DataFrame(rainfall_station, columns = \n",
    "    ['Station', 'Total Precip', 'Station Name', 'Elevation', 'Latitude', 'Longitute'])).set_index('Station')\n",
    "rainfall_df.head()"
   ]
  },
  {
   "cell_type": "markdown",
   "metadata": {},
   "source": [
    "## Optional Challenge Assignment"
   ]
  },
  {
   "cell_type": "code",
   "execution_count": 33,
   "metadata": {},
   "outputs": [
    {
     "data": {
      "text/plain": [
       "[(62.0, 69.15384615384616, 77.0)]"
      ]
     },
     "execution_count": 33,
     "metadata": {},
     "output_type": "execute_result"
    }
   ],
   "source": [
    "# Create a query that will calculate the daily normals \n",
    "# (i.e. the averages for tmin, tmax, and tavg for all historic data matching \n",
    "# a specific month and day)\n",
    "\n",
    "def daily_normals(date):\n",
    "    \"\"\"Daily Normals.\n",
    "    \n",
    "    Args:\n",
    "        date (str): A date string in the format '%m-%d'\n",
    "        \n",
    "    Returns:\n",
    "        A list of tuples containing the daily normals, tmin, tavg, and tmax\n",
    "    \n",
    "    \"\"\"\n",
    "    \n",
    "    sel = [func.min(Measurement.tobs), func.avg(Measurement.tobs), func.max(Measurement.tobs)]\n",
    "    return session.query(*sel).filter(func.strftime(\"%m-%d\", Measurement.date) == date).all()\n",
    "    \n",
    "daily_normals(\"01-01\")"
   ]
  },
  {
   "cell_type": "code",
   "execution_count": 36,
   "metadata": {},
   "outputs": [
    {
     "data": {
      "text/plain": [
       "[(69.0, 74.91071428571429, 82.0),\n",
       " (69.0, 76.08333333333333, 83.0),\n",
       " (68.0, 76.19298245614036, 83.0),\n",
       " (68.0, 75.62068965517241, 82.0),\n",
       " (70.0, 75.78947368421052, 81.0),\n",
       " (67.0, 75.96491228070175, 82.0),\n",
       " (69.0, 76.1896551724138, 81.0)]"
      ]
     },
     "execution_count": 36,
     "metadata": {},
     "output_type": "execute_result"
    }
   ],
   "source": [
    "# calculate the daily normals for your trip\n",
    "# push each tuple of calculations into a list called `normals`\n",
    "trip_day_norm = daily_normals('07-07')\n",
    "trip_day_norm\n",
    "\n",
    "# Set the start and end date of the trip\n",
    "trip_start = '2018-07-07'\n",
    "trip_end = '2018-07-14'\n",
    "\n",
    "# Use the start and end date to create a range of dates\n",
    "trip_start_dt = dt.datetime.strptime(trip_start, '%Y-%m-%d').date()\n",
    "trip_end_dt = dt.datetime.strptime(trip_end, '%Y-%m-%d').date()\n",
    "trip_length = (trip_end_dt - trip_start_dt).days\n",
    "trip_length\n",
    "\n",
    "# Loop through the list of %m-%d strings and calculate the normals for each date\n",
    "# Stip off the year and save a list of %m-%d strings\n",
    "\n",
    "normals = []\n",
    "trip_dates = []\n",
    "\n",
    "for i in range(trip_length):\n",
    "    trip_date = trip_start_dt + dt.timedelta(i)\n",
    "    trip_dates.append(trip_date)\n",
    "    day = trip_date.strftime('%m-%d')\n",
    "    normals.append(daily_normals(day)[0])\n",
    "    \n",
    "normals"
   ]
  },
  {
   "cell_type": "code",
   "execution_count": 37,
   "metadata": {},
   "outputs": [
    {
     "data": {
      "text/html": [
       "<div>\n",
       "<style scoped>\n",
       "    .dataframe tbody tr th:only-of-type {\n",
       "        vertical-align: middle;\n",
       "    }\n",
       "\n",
       "    .dataframe tbody tr th {\n",
       "        vertical-align: top;\n",
       "    }\n",
       "\n",
       "    .dataframe thead th {\n",
       "        text-align: right;\n",
       "    }\n",
       "</style>\n",
       "<table border=\"1\" class=\"dataframe\">\n",
       "  <thead>\n",
       "    <tr style=\"text-align: right;\">\n",
       "      <th></th>\n",
       "      <th>tmin</th>\n",
       "      <th>tavg</th>\n",
       "      <th>tmax</th>\n",
       "    </tr>\n",
       "    <tr>\n",
       "      <th>Date</th>\n",
       "      <th></th>\n",
       "      <th></th>\n",
       "      <th></th>\n",
       "    </tr>\n",
       "  </thead>\n",
       "  <tbody>\n",
       "    <tr>\n",
       "      <th>2018-07-07</th>\n",
       "      <td>69.0</td>\n",
       "      <td>74.910714</td>\n",
       "      <td>82.0</td>\n",
       "    </tr>\n",
       "    <tr>\n",
       "      <th>2018-07-08</th>\n",
       "      <td>69.0</td>\n",
       "      <td>76.083333</td>\n",
       "      <td>83.0</td>\n",
       "    </tr>\n",
       "    <tr>\n",
       "      <th>2018-07-09</th>\n",
       "      <td>68.0</td>\n",
       "      <td>76.192982</td>\n",
       "      <td>83.0</td>\n",
       "    </tr>\n",
       "    <tr>\n",
       "      <th>2018-07-10</th>\n",
       "      <td>68.0</td>\n",
       "      <td>75.620690</td>\n",
       "      <td>82.0</td>\n",
       "    </tr>\n",
       "    <tr>\n",
       "      <th>2018-07-11</th>\n",
       "      <td>70.0</td>\n",
       "      <td>75.789474</td>\n",
       "      <td>81.0</td>\n",
       "    </tr>\n",
       "    <tr>\n",
       "      <th>2018-07-12</th>\n",
       "      <td>67.0</td>\n",
       "      <td>75.964912</td>\n",
       "      <td>82.0</td>\n",
       "    </tr>\n",
       "    <tr>\n",
       "      <th>2018-07-13</th>\n",
       "      <td>69.0</td>\n",
       "      <td>76.189655</td>\n",
       "      <td>81.0</td>\n",
       "    </tr>\n",
       "  </tbody>\n",
       "</table>\n",
       "</div>"
      ],
      "text/plain": [
       "            tmin       tavg  tmax\n",
       "Date                             \n",
       "2018-07-07  69.0  74.910714  82.0\n",
       "2018-07-08  69.0  76.083333  83.0\n",
       "2018-07-09  68.0  76.192982  83.0\n",
       "2018-07-10  68.0  75.620690  82.0\n",
       "2018-07-11  70.0  75.789474  81.0\n",
       "2018-07-12  67.0  75.964912  82.0\n",
       "2018-07-13  69.0  76.189655  81.0"
      ]
     },
     "execution_count": 37,
     "metadata": {},
     "output_type": "execute_result"
    }
   ],
   "source": [
    "# Load the previous query results into a Pandas DataFrame and \n",
    "# add the `trip_dates` range as the `date` index.\n",
    "\n",
    "normals_df = pd.DataFrame(normals, columns = ['tmin', 'tavg', 'tmax'], index = trip_dates)\n",
    "normals_df.index.name = 'Date'\n",
    "normals_df"
   ]
  },
  {
   "cell_type": "code",
   "execution_count": 38,
   "metadata": {},
   "outputs": [
    {
     "data": {
      "text/plain": [
       "(50, 90)"
      ]
     },
     "execution_count": 38,
     "metadata": {},
     "output_type": "execute_result"
    },
    {
     "data": {
      "image/png": "[encoded data removed]",
      "text/plain": [
       "<Figure size 432x288 with 1 Axes>"
      ]
     },
     "metadata": {},
     "output_type": "display_data"
    }
   ],
   "source": [
    "# Plot the daily normals as an area plot with `stacked=False`\n",
    "# Create data\n",
    "\n",
    "normals_df.plot.area(stacked = False)\n",
    "plt.xticks(rotation = 45)\n",
    "plt.title('Temperature Normals: Rustys Birthday Trip')\n",
    "plt.ylim(50,90)"
   ]
  },
  {
   "cell_type": "code",
   "execution_count": null,
   "metadata": {},
   "outputs": [],
   "source": []
  }
 ],
 "metadata": {
  "kernel_info": {
   "name": "python3"
  },
  "kernelspec": {
   "display_name": "Python 3",
   "language": "python",
   "name": "python3"
  },
  "language_info": {
   "codemirror_mode": {
    "name": "ipython",
    "version": 3
   },
   "file_extension": ".py",
   "mimetype": "text/x-python",
   "name": "python",
   "nbconvert_exporter": "python",
   "pygments_lexer": "ipython3",
   "version": "3.6.5"
  },
  "nteract": {
   "version": "0.9.1"
  },
  "varInspector": {
   "cols": {
    "lenName": 16,
    "lenType": 16,
    "lenVar": 40
   },
   "kernels_config": {
    "python": {
     "delete_cmd_postfix": "",
     "delete_cmd_prefix": "del ",
     "library": "var_list.py",
     "varRefreshCmd": "print(var_dic_list())"
    },
    "r": {
     "delete_cmd_postfix": ") ",
     "delete_cmd_prefix": "rm(",
     "library": "var_list.r",
     "varRefreshCmd": "cat(var_dic_list()) "
    }
   },
   "types_to_exclude": [
    "module",
    "function",
    "builtin_function_or_method",
    "instance",
    "_Feature"
   ],
   "window_display": false
  }
 },
 "nbformat": 4,
 "nbformat_minor": 2
}
